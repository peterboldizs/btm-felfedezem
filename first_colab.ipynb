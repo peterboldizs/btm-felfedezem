{
 "cells": [
  {
   "cell_type": "markdown",
   "metadata": {
    "id": "view-in-github",
    "colab_type": "text"
   },
   "source": [
    "<a href=\"https://colab.research.google.com/github/peterboldizs/btm-felfedezem/blob/master/first_colab.ipynb\" target=\"_parent\"><img src=\"https://colab.research.google.com/assets/colab-badge.svg\" alt=\"Open In Colab\"/></a>"
   ]
  },
  {
   "cell_type": "markdown",
   "metadata": {
    "id": "04qfj3qveWbR",
    "colab_type": "text"
   },
   "source": [
    "**First Colab Notebook**"
   ]
  },
  {
   "cell_type": "code",
   "execution_count": null,
   "metadata": {
    "id": "FS1ttqLPcLfj",
    "colab_type": "code",
    "outputId": "f3e0dc94-0538-40c9-8780-90ccc12599d6",
    "colab": {
     "base_uri": "https://localhost:8080/",
     "height": 153.0
    }
   },
   "outputs": [],
   "source": [
    "import sys\n",
    "print(\"Hello colab\")\n",
    "print(sys.version)\n",
    "\n",
    "for i in range(10):\n",
    "  print(\"i={} \".format(i), end=' ')"
   ]
  },
  {
   "cell_type": "code",
   "execution_count": null,
   "metadata": {},
   "outputs": [],
   "source": []
  }
 ],
 "metadata": {
  "colab": {
   "name": "Untitled0.ipynb",
   "version": "0.3.2",
   "provenance": [],
   "include_colab_link": true
  },
  "kernelspec": {
   "name": "python3",
   "display_name": "Python 3"
  }
 },
 "nbformat": 4,
 "nbformat_minor": 0
}
