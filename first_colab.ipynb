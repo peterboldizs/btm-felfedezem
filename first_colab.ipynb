{
  "nbformat": 4,
  "nbformat_minor": 0,
  "metadata": {
    "colab": {
      "name": "Untitled0.ipynb",
      "version": "0.3.2",
      "provenance": [],
      "include_colab_link": true
    },
    "language_info": {
      "codemirror_mode": {
        "name": "ipython",
        "version": 3
      },
      "file_extension": ".py",
      "mimetype": "text/x-python",
      "name": "python",
      "nbconvert_exporter": "python",
      "pygments_lexer": "ipython3",
      "version": "3.7.1"
    },
    "kernelspec": {
      "display_name": "Python 3",
      "language": "python",
      "name": "python3"
    }
  },
  "cells": [
    {
      "cell_type": "markdown",
      "metadata": {
        "id": "view-in-github",
        "colab_type": "text"
      },
      "source": [
        "<a href=\"https://colab.research.google.com/github/peterboldizs/btm-felfedezem/blob/master/first_colab.ipynb\" target=\"_parent\"><img src=\"https://colab.research.google.com/assets/colab-badge.svg\" alt=\"Open In Colab\"/></a>"
      ]
    },
    {
      "metadata": {
        "colab_type": "text",
        "id": "04qfj3qveWbR"
      },
      "cell_type": "markdown",
      "source": [
        "**First Colab Notebook**"
      ]
    },
    {
      "metadata": {
        "colab_type": "text",
        "id": "VU5Hs0ybxAex"
      },
      "cell_type": "markdown",
      "source": [
        "This is a test to find out the different options running Jupyter notebooks.\n",
        "\n",
        "\n",
        "- local Jupyter installation (using miniconda)\n",
        "- PyCharm project\n",
        "- Google Colaboratory\n",
        "- Anaconda Cloud"
      ]
    },
    {
      "metadata": {
        "colab_type": "code",
        "id": "FS1ttqLPcLfj",
        "outputId": "2c858487-696e-4081-cb65-e2b927ed444a",
        "colab": {
          "base_uri": "https://localhost:8080/",
          "height": 122
        }
      },
      "cell_type": "code",
      "source": [
        "import sys\n",
        "print(\"Hello this is the Colab environment\")\n",
        "print(sys.version)\n",
        "print(sys.platform)\n",
        "print(sys.float_info)"
      ],
      "execution_count": 1,
      "outputs": [
        {
          "output_type": "stream",
          "text": [
            "Hello this is the Colab environment\n",
            "3.6.7 (default, Oct 22 2018, 11:32:17) \n",
            "[GCC 8.2.0]\n",
            "linux\n",
            "sys.float_info(max=1.7976931348623157e+308, max_exp=1024, max_10_exp=308, min=2.2250738585072014e-308, min_exp=-1021, min_10_exp=-307, dig=15, mant_dig=53, epsilon=2.220446049250313e-16, radix=2, rounds=1)\n"
          ],
          "name": "stdout"
        }
      ]
    },
    {
      "metadata": {
        "id": "NEsVMPV2VM9Y",
        "colab_type": "code",
        "colab": {
          "base_uri": "https://localhost:8080/",
          "height": 34
        },
        "outputId": "80fb9b8f-ef1c-457f-9903-f0f81cd3b3a9"
      },
      "cell_type": "code",
      "source": [
        "for i in range(10):\n",
        "  print(\"i={} \".format(i), end=' ')"
      ],
      "execution_count": 3,
      "outputs": [
        {
          "output_type": "stream",
          "text": [
            "i=0  i=1  i=2  i=3  i=4  i=5  i=6  i=7  i=8  i=9  "
          ],
          "name": "stdout"
        }
      ]
    },
    {
      "metadata": {
        "colab_type": "code",
        "id": "3sV9iFlyxAfB",
        "outputId": "4e8d9066-756b-46bd-9ba7-8705738206e7",
        "colab": {
          "base_uri": "https://localhost:8080/",
          "height": 136
        }
      },
      "cell_type": "code",
      "source": [
        "my_list = [1, 2, 3, 4, 5, 6, 7]\n",
        "my_num = 3\n",
        "for i in my_list:\n",
        "    if i == my_num:\n",
        "        print(\"equal\")\n",
        "    else:\n",
        "        print(\"not equal\")\n"
      ],
      "execution_count": 5,
      "outputs": [
        {
          "output_type": "stream",
          "text": [
            "not equal\n",
            "not equal\n",
            "equal\n",
            "not equal\n",
            "not equal\n",
            "not equal\n",
            "not equal\n"
          ],
          "name": "stdout"
        }
      ]
    },
    {
      "metadata": {
        "colab_type": "code",
        "id": "zDECFEKLxAfK",
        "colab": {}
      },
      "cell_type": "code",
      "source": [
        ""
      ],
      "execution_count": 0,
      "outputs": []
    }
  ]
}