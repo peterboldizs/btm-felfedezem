{
  "nbformat": 4,
  "nbformat_minor": 0,
  "metadata": {
    "colab": {
      "name": "Untitled0.ipynb",
      "version": "0.3.2",
      "provenance": [],
      "include_colab_link": true
    },
    "kernelspec": {
      "name": "python3",
      "display_name": "Python 3"
    }
  },
  "cells": [
    {
      "cell_type": "markdown",
      "metadata": {
        "id": "view-in-github",
        "colab_type": "text"
      },
      "source": [
        "<a href=\"https://colab.research.google.com/github/peterboldizs/btm-felfedezem/blob/master/first_colab.ipynb\" target=\"_parent\"><img src=\"https://colab.research.google.com/assets/colab-badge.svg\" alt=\"Open In Colab\"/></a>"
      ]
    },
    {
      "metadata": {
        "id": "04qfj3qveWbR",
        "colab_type": "text"
      },
      "cell_type": "markdown",
      "source": [
        "**First Colab Notebook**"
      ]
    },
    {
      "metadata": {
        "id": "FS1ttqLPcLfj",
        "colab_type": "code",
        "outputId": "f3e0dc94-0538-40c9-8780-90ccc12599d6",
        "colab": {
          "base_uri": "https://localhost:8080/",
          "height": 153
        }
      },
      "cell_type": "code",
      "source": [
        "import sys\n",
        "print(\"Hello colab\")\n",
        "print(sys.version)\n",
        "\n",
        "for i in range(5):\n",
        "  print(i)"
      ],
      "execution_count": 3,
      "outputs": [
        {
          "output_type": "stream",
          "text": [
            "Hello colab\n",
            "3.6.7 (default, Oct 22 2018, 11:32:17) \n",
            "[GCC 8.2.0]\n",
            "0\n",
            "1\n",
            "2\n",
            "3\n",
            "4\n"
          ],
          "name": "stdout"
        }
      ]
    }
  ]
}