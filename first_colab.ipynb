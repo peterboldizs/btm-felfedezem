{
  "nbformat": 4,
  "nbformat_minor": 0,
  "metadata": {
    "colab": {
      "name": "Untitled0.ipynb",
      "version": "0.3.2",
      "provenance": [],
      "include_colab_link": true
    },
    "kernelspec": {
      "display_name": "Python 3",
      "language": "python",
      "name": "python3"
    }
  },
  "cells": [
    {
      "cell_type": "markdown",
      "metadata": {
        "id": "view-in-github",
        "colab_type": "text"
      },
      "source": [
        "<a href=\"https://colab.research.google.com/github/peterboldizs/btm-felfedezem/blob/master/first_colab.ipynb\" target=\"_parent\"><img src=\"https://colab.research.google.com/assets/colab-badge.svg\" alt=\"Open In Colab\"/></a>"
      ]
    },
    {
      "metadata": {
        "colab_type": "text",
        "id": "04qfj3qveWbR"
      },
      "cell_type": "markdown",
      "source": [
        "**First Colab Notebook**"
      ]
    },
    {
      "metadata": {
        "id": "vgEkFRe-xAev",
        "colab_type": "text"
      },
      "cell_type": "markdown",
      "source": [
        "This is a test to find out the different options running Jupyter notebooks.\n"
      ]
    },
    {
      "metadata": {
        "id": "VU5Hs0ybxAex",
        "colab_type": "text"
      },
      "cell_type": "markdown",
      "source": [
        "- local Jupyter installation (using miniconda)\n",
        "- PyCharm project\n",
        "- Google Colaboratory\n",
        "- Anaconda Cloud"
      ]
    },
    {
      "metadata": {
        "colab_type": "code",
        "id": "FS1ttqLPcLfj",
        "outputId": "f3e0dc94-0538-40c9-8780-90ccc12599d6",
        "colab": {
          "base_uri": "https://localhost:8080/",
          "height": 153
        }
      },
      "cell_type": "code",
      "source": [
        "import sys\n",
        "print(\"Hello colab\")\n",
        "print(sys.version)\n",
        "\n",
        "for i in range(10):\n",
        "  print(\"i={} \".format(i), end=' ')"
      ],
      "execution_count": 0,
      "outputs": [
        {
          "output_type": "stream",
          "text": [
            "Hello colab\n",
            "3.7.1 (default, Dec 14 2018, 19:28:38) \n",
            "[GCC 7.3.0]\n",
            "i=0  i=1  i=2  i=3  i=4  i=5  i=6  i=7  i=8  i=9  "
          ],
          "name": "stdout"
        }
      ]
    },
    {
      "metadata": {
        "id": "3sV9iFlyxAfB",
        "colab_type": "code",
        "colab": {
          "base_uri": "https://localhost:8080/",
          "height": 119
        },
        "outputId": "6520e5be-3ba9-434f-ea3c-65549150766f"
      },
      "cell_type": "code",
      "source": [
        "my_list = [1,2,3,4,5,6]\n",
        "my_num = 3\n",
        "for i in my_list:\n",
        "    if i == my_num:\n",
        "        print(\"equal\")\n",
        "    else:\n",
        "        print(\"not equal\")"
      ],
      "execution_count": 1,
      "outputs": [
        {
          "output_type": "stream",
          "text": [
            "not equal\n",
            "not equal\n",
            "equal\n",
            "not equal\n",
            "not equal\n",
            "not equal\n"
          ],
          "name": "stdout"
        }
      ]
    },
    {
      "metadata": {
        "id": "zDECFEKLxAfK",
        "colab_type": "code",
        "colab": {}
      },
      "cell_type": "code",
      "source": [
        ""
      ],
      "execution_count": 0,
      "outputs": []
    }
  ]
}