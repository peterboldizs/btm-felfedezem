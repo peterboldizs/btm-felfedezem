{
  "nbformat": 4,
  "nbformat_minor": 0,
  "metadata": {
    "colab": {
      "name": "matek.ipynb",
      "version": "0.3.2",
      "provenance": [],
      "include_colab_link": true
    },
    "kernelspec": {
      "display_name": "Python 2",
      "language": "python",
      "name": "python2"
    }
  },
  "cells": [
    {
      "cell_type": "markdown",
      "metadata": {
        "id": "view-in-github",
        "colab_type": "text"
      },
      "source": [
        "<a href=\"https://colab.research.google.com/github/peterboldizs/btm-felfedezem/blob/master/matek.ipynb\" target=\"_parent\"><img src=\"https://colab.research.google.com/assets/colab-badge.svg\" alt=\"Open In Colab\"/></a>"
      ]
    },
    {
      "metadata": {
        "collapsed": true,
        "id": "xKz86Hc9-C8t",
        "colab_type": "text"
      },
      "cell_type": "markdown",
      "source": [
        ""
      ]
    },
    {
      "metadata": {
        "id": "q5qRswFI-C8v",
        "colab_type": "text"
      },
      "cell_type": "markdown",
      "source": [
        "Matematika"
      ]
    },
    {
      "metadata": {
        "id": "S2so8KmY-C8x",
        "colab_type": "code",
        "outputId": "bd904538-cff1-4b64-bd05-37a7674cfbed",
        "colab": {
          "base_uri": "https://localhost:8080/",
          "height": 34
        }
      },
      "cell_type": "code",
      "source": [
        "print(\"Üdvözlet az első matek oldalon!\")"
      ],
      "execution_count": 1,
      "outputs": [
        {
          "output_type": "stream",
          "text": [
            "Üdvözlet az első matek oldalon!\n"
          ],
          "name": "stdout"
        }
      ]
    },
    {
      "metadata": {
        "id": "-xejX77b-C87",
        "colab_type": "text"
      },
      "cell_type": "markdown",
      "source": [
        "Háromszögek számításai\t"
      ]
    },
    {
      "metadata": {
        "id": "fYBjjWdE-C89",
        "colab_type": "code",
        "outputId": "82abb9cf-731c-4974-80fb-990a1f88321b",
        "colab": {
          "base_uri": "https://localhost:8080/",
          "height": 68
        }
      },
      "cell_type": "code",
      "source": [
        "befogo1 = int(input(\"add meg az első befogót:\"))\n",
        "befogo2 = int(input(\"add meg a második befogót:\"))\n",
        "print(\"A befogók: {} és {}\".format(befogo1, befogo2))"
      ],
      "execution_count": 2,
      "outputs": [
        {
          "output_type": "stream",
          "text": [
            "add meg az első befogót:11\n",
            "add meg a második befogót:22\n",
            "A befogók: 11 és 22\n"
          ],
          "name": "stdout"
        }
      ]
    },
    {
      "metadata": {
        "id": "w4u597-7-C9D",
        "colab_type": "text"
      },
      "cell_type": "markdown",
      "source": [
        "A számítás itt következik"
      ]
    },
    {
      "metadata": {
        "id": "OmIYTRUV-C9F",
        "colab_type": "code",
        "colab": {}
      },
      "cell_type": "code",
      "source": [
        "import math"
      ],
      "execution_count": 0,
      "outputs": []
    },
    {
      "metadata": {
        "id": "uViA014D-C9L",
        "colab_type": "code",
        "outputId": "0dbb6c04-d937-40b1-abfe-65e68b208cd6",
        "colab": {
          "base_uri": "https://localhost:8080/",
          "height": 34
        }
      },
      "cell_type": "code",
      "source": [
        "atfogo = math.sqrt(befogo1 ** 2 + befogo2 ** 2)\n",
        "print(\"Az átfogó: {0:1.3f}\".format(atfogo))"
      ],
      "execution_count": 10,
      "outputs": [
        {
          "output_type": "stream",
          "text": [
            "Az átfogó: 24.597\n"
          ],
          "name": "stdout"
        }
      ]
    }
  ]
}