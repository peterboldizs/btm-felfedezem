{
 "cells": [
  {
   "cell_type": "markdown",
   "metadata": {
    "colab_type": "text",
    "id": "view-in-github"
   },
   "source": [
    "<a href=\"https://colab.research.google.com/github/peterboldizs/btm-felfedezem/blob/master/matek.ipynb\" target=\"_parent\"><img src=\"https://colab.research.google.com/assets/colab-badge.svg\" alt=\"Open In Colab\"/></a>"
   ]
  },
  {
   "cell_type": "markdown",
   "metadata": {
    "colab_type": "text",
    "collapsed": true,
    "id": "xKz86Hc9-C8t"
   },
   "source": []
  },
  {
   "cell_type": "markdown",
   "metadata": {
    "colab_type": "text",
    "id": "q5qRswFI-C8v"
   },
   "source": [
    "Matematika"
   ]
  },
  {
   "cell_type": "code",
   "execution_count": 1,
   "metadata": {
    "colab": {
     "base_uri": "https://localhost:8080/",
     "height": 34
    },
    "colab_type": "code",
    "id": "S2so8KmY-C8x",
    "outputId": "544dd79a-4907-4b99-db85-0c803abf719e"
   },
   "outputs": [
    {
     "name": "stdout",
     "output_type": "stream",
     "text": [
      "Ez egy Üdvözlet az első matek oldalon!\n"
     ]
    }
   ],
   "source": [
    "import math\n",
    "print(\"Ez egy Üdvözlet az első matek oldalon!\")"
   ]
  },
  {
   "cell_type": "markdown",
   "metadata": {
    "colab_type": "text",
    "id": "-xejX77b-C87"
   },
   "source": [
    "Háromszögek számításai\tezek"
   ]
  },
  {
   "cell_type": "code",
   "execution_count": 2,
   "metadata": {
    "colab": {
     "base_uri": "https://localhost:8080/",
     "height": 68
    },
    "colab_type": "code",
    "id": "fYBjjWdE-C89",
    "outputId": "556fa658-e3b6-4caa-f17b-0736757fd117"
   },
   "outputs": [
    {
     "name": "stdout",
     "output_type": "stream",
     "text": [
      "add meg az első befogót:3\n",
      "add meg a második befogót:4\n",
      "A befogók: 3 és 4\n"
     ]
    }
   ],
   "source": [
    "befogo1 = int(input(\"add meg az első befogót:\"))\n",
    "befogo2 = int(input(\"add meg a második befogót:\"))\n",
    "print(\"A befogók: {} és {}\".format(befogo1, befogo2))"
   ]
  },
  {
   "cell_type": "markdown",
   "metadata": {
    "colab_type": "text",
    "id": "w4u597-7-C9D"
   },
   "source": [
    "A számítás itt következik"
   ]
  },
  {
   "cell_type": "code",
   "execution_count": 3,
   "metadata": {
    "colab": {
     "base_uri": "https://localhost:8080/",
     "height": 34
    },
    "colab_type": "code",
    "id": "uViA014D-C9L",
    "outputId": "030caac7-9987-4a16-9d78-691d41a896f2"
   },
   "outputs": [
    {
     "name": "stdout",
     "output_type": "stream",
     "text": [
      "Az átfogó: 5.000\n"
     ]
    }
   ],
   "source": [
    "atfogo = math.sqrt(befogo1 ** 2 + befogo2 ** 2)\n",
    "print(\"Az átfogó: {0:1.3f}\".format(atfogo))"
   ]
  },
  {
   "cell_type": "code",
   "execution_count": 6,
   "metadata": {},
   "outputs": [
    {
     "data": {
      "text/plain": [
       "float"
      ]
     },
     "execution_count": 6,
     "metadata": {},
     "output_type": "execute_result"
    }
   ],
   "source": [
    "type(atfogo)"
   ]
  },
  {
   "cell_type": "markdown",
   "metadata": {},
   "source": [
    "Véletlen számok"
   ]
  },
  {
   "cell_type": "code",
   "execution_count": 16,
   "metadata": {},
   "outputs": [
    {
     "name": "stdout",
     "output_type": "stream",
     "text": [
      "a=5 b=9\n"
     ]
    }
   ],
   "source": [
    "import random\n",
    "a = random.randint(0, 20)\n",
    "b = random.randint(0, 40)\n",
    "print(\"a={} b={}\".format(a, b))"
   ]
  },
  {
   "cell_type": "markdown",
   "metadata": {},
   "source": [
    "Ezen számok típusa és szorzata:"
   ]
  },
  {
   "cell_type": "code",
   "execution_count": 17,
   "metadata": {},
   "outputs": [
    {
     "name": "stdout",
     "output_type": "stream",
     "text": [
      "a típusa: <class 'int'>, b típusa: <class 'int'>\n",
      "5 * 9 = 45\n"
     ]
    }
   ],
   "source": [
    "print(\"a típusa: {}, b típusa: {}\".format(type(a), type(b)))\n",
    "print(\"{} * {} = {}\".format(a, b, a * b))"
   ]
  },
  {
   "cell_type": "code",
   "execution_count": null,
   "metadata": {},
   "outputs": [],
   "source": []
  }
 ],
 "metadata": {
  "colab": {
   "include_colab_link": true,
   "name": "matek.ipynb",
   "provenance": [],
   "version": "0.3.2"
  },
  "kernelspec": {
   "display_name": "Python 3",
   "language": "python",
   "name": "python3"
  },
  "language_info": {
   "codemirror_mode": {
    "name": "ipython",
    "version": 3
   },
   "file_extension": ".py",
   "mimetype": "text/x-python",
   "name": "python",
   "nbconvert_exporter": "python",
   "pygments_lexer": "ipython3",
   "version": "3.6.8"
  }
 },
 "nbformat": 4,
 "nbformat_minor": 1
}
