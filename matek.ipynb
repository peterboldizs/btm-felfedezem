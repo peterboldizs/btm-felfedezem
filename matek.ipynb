{
  "nbformat": 4,
  "nbformat_minor": 0,
  "metadata": {
    "colab": {
      "name": "matek.ipynb",
      "version": "0.3.2",
      "provenance": [],
      "include_colab_link": true
    },
    "kernelspec": {
      "display_name": "Python 2",
      "language": "python",
      "name": "python2"
    }
  },
  "cells": [
    {
      "cell_type": "markdown",
      "metadata": {
        "id": "view-in-github",
        "colab_type": "text"
      },
      "source": [
        "<a href=\"https://colab.research.google.com/github/peterboldizs/btm-felfedezem/blob/master/matek.ipynb\" target=\"_parent\"><img src=\"https://colab.research.google.com/assets/colab-badge.svg\" alt=\"Open In Colab\"/></a>"
      ]
    },
    {
      "metadata": {
        "collapsed": true,
        "id": "xKz86Hc9-C8t",
        "colab_type": "text"
      },
      "cell_type": "markdown",
      "source": [
        ""
      ]
    },
    {
      "metadata": {
        "id": "q5qRswFI-C8v",
        "colab_type": "text"
      },
      "cell_type": "markdown",
      "source": [
        "Matematika"
      ]
    },
    {
      "metadata": {
        "id": "S2so8KmY-C8x",
        "colab_type": "code",
        "outputId": "4cc60b88-0dc4-403f-9daf-bfc54b7362dc",
        "colab": {
          "base_uri": "https://localhost:8080/",
          "height": 34
        }
      },
      "cell_type": "code",
      "source": [
        "import math\n",
        "print(\"Üdvözlet az első matek oldalon!\")"
      ],
      "execution_count": 5,
      "outputs": [
        {
          "output_type": "stream",
          "text": [
            "Üdvözlet az első matek oldalon!\n"
          ],
          "name": "stdout"
        }
      ]
    },
    {
      "metadata": {
        "id": "-xejX77b-C87",
        "colab_type": "text"
      },
      "cell_type": "markdown",
      "source": [
        "Háromszögek számításai\t"
      ]
    },
    {
      "metadata": {
        "id": "fYBjjWdE-C89",
        "colab_type": "code",
        "outputId": "3969fa34-9dfd-48a1-f405-4384d8f59165",
        "colab": {
          "base_uri": "https://localhost:8080/",
          "height": 68
        }
      },
      "cell_type": "code",
      "source": [
        "befogo1 = int(input(\"add meg az első befogót:\"))\n",
        "befogo2 = int(input(\"add meg a második befogót:\"))\n",
        "print(\"A befogók: {} és {}\".format(befogo1, befogo2))"
      ],
      "execution_count": 6,
      "outputs": [
        {
          "output_type": "stream",
          "text": [
            "add meg az első befogót:3\n",
            "add meg a második befogót:4\n",
            "A befogók: 3 és 4\n"
          ],
          "name": "stdout"
        }
      ]
    },
    {
      "metadata": {
        "id": "w4u597-7-C9D",
        "colab_type": "text"
      },
      "cell_type": "markdown",
      "source": [
        "A számítás itt következik"
      ]
    },
    {
      "metadata": {
        "id": "uViA014D-C9L",
        "colab_type": "code",
        "outputId": "3f556aca-ce8c-43d6-8d76-480e1567a339",
        "colab": {
          "base_uri": "https://localhost:8080/",
          "height": 34
        }
      },
      "cell_type": "code",
      "source": [
        "atfogo = math.sqrt(befogo1 ** 2 + befogo2 ** 2)\n",
        "print(\"Az átfogó: {0:1.3f}\".format(atfogo))"
      ],
      "execution_count": 7,
      "outputs": [
        {
          "output_type": "stream",
          "text": [
            "Az átfogó: 5.000\n"
          ],
          "name": "stdout"
        }
      ]
    }
  ]
}